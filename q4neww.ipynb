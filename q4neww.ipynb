{
  "nbformat": 4,
  "nbformat_minor": 0,
  "metadata": {
    "colab": {
      "provenance": [],
      "authorship_tag": "ABX9TyOGRZlggS6drKQnx5x7S1iQ",
      "include_colab_link": true
    },
    "kernelspec": {
      "name": "python3",
      "display_name": "Python 3"
    },
    "language_info": {
      "name": "python"
    }
  },
  "cells": [
    {
      "cell_type": "markdown",
      "metadata": {
        "id": "view-in-github",
        "colab_type": "text"
      },
      "source": [
        "<a href=\"https://colab.research.google.com/github/ShreyaSarkar1234/DEEP_LEARNING/blob/main/q4neww.ipynb\" target=\"_parent\"><img src=\"https://colab.research.google.com/assets/colab-badge.svg\" alt=\"Open In Colab\"/></a>"
      ]
    },
    {
      "cell_type": "code",
      "execution_count": null,
      "metadata": {
        "colab": {
          "base_uri": "https://localhost:8080/"
        },
        "id": "yJACUDs_3zgZ",
        "outputId": "278ccdf8-5d5b-479a-8e81-a7e6025658bd"
      },
      "outputs": [
        {
          "output_type": "stream",
          "name": "stdout",
          "text": [
            "Epoch 1, Loss: 5.5274\n",
            "Epoch 2, Loss: 5.4954\n",
            "Epoch 3, Loss: 5.5287\n",
            "Epoch 4, Loss: 5.5679\n",
            "Epoch 5, Loss: 5.5219\n",
            "Epoch 6, Loss: 5.5121\n",
            "Epoch 7, Loss: 5.4687\n",
            "Epoch 8, Loss: 5.5064\n",
            "Epoch 9, Loss: 5.5379\n",
            "Epoch 10, Loss: 5.4896\n",
            "Enter your sentence: I LOVE TO EAT PANIPURI\n",
            "Predicted Sentiment: Positive\n"
          ]
        }
      ],
      "source": [
        "import torch\n",
        "import torch.nn as nn\n",
        "import torch.optim as optim\n",
        "import torch.nn.functional as F\n",
        "from torch.utils.data import DataLoader, Dataset\n",
        "from tensorflow.keras.preprocessing.text import Tokenizer\n",
        "from tensorflow.keras.preprocessing.sequence import pad_sequences\n",
        "import numpy as np\n",
        "\n",
        "# Sample data\n",
        "texts = [\n",
        "    \"I love this product\",\n",
        "    \"This is the worst thing ever\",\n",
        "    \"Not sure how I feel\",\n",
        "    \"Absolutely fantastic experience\",\n",
        "    \"Terrible service\",\n",
        "    \"It’s okay, not bad\",\n",
        "    \"I am very happy\",\n",
        "    \"I hate it\",\n",
        "    \"Meh, nothing special\",\n",
        "]\n",
        "\n",
        "labels = [2, 0, 1, 2, 0, 1, 2, 0, 1]  # 0=Neg, 1=Neutral, 2=Pos\n",
        "\n",
        "# Tokenization\n",
        "tokenizer = Tokenizer(num_words=1000, oov_token=\"<OOV>\")\n",
        "tokenizer.fit_on_texts(texts)\n",
        "sequences = tokenizer.texts_to_sequences(texts)\n",
        "padded = pad_sequences(sequences, maxlen=10, padding='post')\n",
        "\n",
        "# Convert to tensors\n",
        "X = torch.tensor(padded, dtype=torch.long)\n",
        "y = torch.tensor(labels, dtype=torch.long)\n",
        "\n",
        "# Dataset class\n",
        "class SentimentDataset(Dataset):\n",
        "    def __init__(self, X, y):\n",
        "        self.X = X\n",
        "        self.y = y\n",
        "    def __len__(self):\n",
        "        return len(self.y)\n",
        "    def __getitem__(self, idx):\n",
        "        return self.X[idx], self.y[idx]\n",
        "\n",
        "dataset = SentimentDataset(X, y)\n",
        "dataloader = DataLoader(dataset, batch_size=2, shuffle=True)\n",
        "\n",
        "# Define Model\n",
        "class SentimentModel(nn.Module):\n",
        "    def __init__(self, vocab_size, embedding_dim, hidden_dim, output_dim):\n",
        "        super(SentimentModel, self).__init__()\n",
        "        self.embedding = nn.Embedding(vocab_size, embedding_dim)\n",
        "        self.lstm = nn.LSTM(embedding_dim, hidden_dim, batch_first=True)\n",
        "        self.fc = nn.Linear(hidden_dim, output_dim)\n",
        "\n",
        "    def forward(self, x):\n",
        "        embedded = self.embedding(x)\n",
        "        _, (hidden, _) = self.lstm(embedded)\n",
        "        out = self.fc(hidden[-1])\n",
        "        return out\n",
        "\n",
        "# Hyperparameters\n",
        "vocab_size = 1000\n",
        "embedding_dim = 16\n",
        "hidden_dim = 32\n",
        "output_dim = 3\n",
        "\n",
        "# Model, loss, optimizer\n",
        "model = SentimentModel(vocab_size, embedding_dim, hidden_dim, output_dim)\n",
        "criterion = nn.CrossEntropyLoss()\n",
        "optimizer = optim.Adam(model.parameters(), lr=0.001)\n",
        "\n",
        "# Training\n",
        "model.train()\n",
        "for epoch in range(10):\n",
        "    total_loss = 0\n",
        "    for inputs, targets in dataloader:\n",
        "        optimizer.zero_grad()\n",
        "        outputs = model(inputs)\n",
        "        loss = criterion(outputs, targets)\n",
        "        loss.backward()\n",
        "        optimizer.step()\n",
        "        total_loss += loss.item()\n",
        "    print(f\"Epoch {epoch+1}, Loss: {total_loss:.4f}\")\n",
        "\n",
        "# Prediction\n",
        "model.eval()\n",
        "user_input = input(\"Enter your sentence: \")\n",
        "user_seq = tokenizer.texts_to_sequences([user_input])\n",
        "user_pad = pad_sequences(user_seq, maxlen=10, padding='post')\n",
        "user_tensor = torch.tensor(user_pad, dtype=torch.long)\n",
        "\n",
        "with torch.no_grad():\n",
        "    output = model(user_tensor)\n",
        "    pred_label = torch.argmax(output, dim=1).item()\n",
        "\n",
        "label_map = {0: \"Negative\", 1: \"Neutral\", 2: \"Positive\"}\n",
        "print(f\"Predicted Sentiment: {label_map[pred_label]}\")\n"
      ]
    }
  ]
}